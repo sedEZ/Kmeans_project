{
 "cells": [
  {
   "cell_type": "code",
   "execution_count": 14,
   "metadata": {},
   "outputs": [],
   "source": [
    "\n",
    "import random\n",
    "import math\n",
    "import numpy as np\n",
    "import pandas as pd\n",
    "from sklearn import cluster, datasets\n",
    "from sklearn.metrics import accuracy_score\n",
    "from sklearn import preprocessing\n",
    "from pyspark.sql import SparkSession\n",
    "from pyspark.sql import Row\n"
   ]
  },
  {
   "cell_type": "markdown",
   "metadata": {},
   "source": [
    "# Data Preprocessing"
   ]
  },
  {
   "cell_type": "markdown",
   "metadata": {},
   "source": [
    "## Abalone dataset"
   ]
  },
  {
   "cell_type": "code",
   "execution_count": 5,
   "metadata": {},
   "outputs": [],
   "source": [
    "#data_x : features (Dataframe)\n",
    "#data_y : labels   (np.array)\n",
    "\n",
    "column_names = [\"sex\", \"length\", \"diameter\", \"height\", \"whole weight\", \n",
    "                \"shucked weight\", \"viscera weight\", \"shell weight\", \"rings\"]\n",
    "abalone = pd.read_csv(\"./dataset/abalone.data\",names=column_names)\n",
    "\n",
    "data_x = abalone.drop(columns=[\"rings\"])\n",
    "dfDummies = pd.get_dummies(data_x['sex'], prefix = 'sex')\n",
    "data_x = pd.concat([data_x.drop(columns=['sex']), dfDummies], axis=1)\n",
    "\n",
    "data_y = np.array(abalone[\"rings\"])\n",
    "data_y[data_y<11]    = 0\n",
    "data_y[data_y>=11]   = 1\n",
    "Simulate_time = 5\n"
   ]
  },
  {
   "cell_type": "markdown",
   "metadata": {},
   "source": [
    "## Iris Dataset"
   ]
  },
  {
   "cell_type": "code",
   "execution_count": 6,
   "metadata": {},
   "outputs": [
    {
     "data": {
      "text/plain": [
       "'\\niris = datasets.load_iris()\\ndata_x = pd.DataFrame(iris.data)\\n\\ndata_y = iris.target\\n\\nSimulate_time = 10\\n'"
      ]
     },
     "execution_count": 6,
     "metadata": {},
     "output_type": "execute_result"
    }
   ],
   "source": [
    "#data_x : features (Dataframe)\n",
    "#data_y : labels   (np.array)\n",
    "'''\n",
    "iris = datasets.load_iris()\n",
    "data_x = pd.DataFrame(iris.data)\n",
    "\n",
    "data_y = iris.target\n",
    "\n",
    "Simulate_time = 10\n",
    "'''"
   ]
  },
  {
   "cell_type": "code",
   "execution_count": 15,
   "metadata": {},
   "outputs": [],
   "source": [
    "class our_k_means:\n",
    "    def __init__(self,data_x,data_y,m = 2,epsilon = 1.0e-6):\n",
    "        self.data_x = pd.DataFrame(preprocessing.scale(data_x))\n",
    "        self.data_y = data_y\n",
    "        self.label  = pd.DataFrame(data_y)\n",
    "        self.acc    = 0\n",
    "        \n",
    "        #資料特性\n",
    "        self.DCNT = len(self.data_x)               #資料個數\n",
    "        self.DIM  = len(self.data_x.columns)       #資料維度\n",
    "        self.K    = len(np.unique(data_y))         #叢聚個數\n",
    "        #self.K    = np.amax(self.data_y)+1        #叢聚個數\n",
    "        self.MAX_ITER = 100                        #最大迭代 \n",
    "        \n",
    "        #k-means過程的參數\n",
    "        self.m    = m                       #m              :hyper parameter,控制fuzzy程度的變數,通常為2\n",
    "        self.epsilon = epsilon              #epsilon        :收斂的閾值\n",
    "        self.data =[]                       #data[DCNT][DIM]:資料\n",
    "        self.cent =[]                       #cent[K][DIM]   :各centroid的座標\n",
    "        self.table=[]                       #table[DCNT][K] :各資料對各cluster的membership values matrix\n",
    "        self.dis_k=[]                       #dis_k[K][DIM]  :各cluster的座標和\n",
    "        self.cent_c=[]                      #cent_c[K]      :各cluster的擁有資料數和\n",
    "        self.nearest=[]                     #nearest[DNST]  :各資料最可能屬於的cluster\n",
    "        self.iterl = 0 \n",
    "        self.obj_value = 0\n",
    "        self.prev_obj_value = 0\n",
    "        \n",
    "        #計算acc時的參數\n",
    "        self.origin_mass = []\n",
    "        self.cent_name = []\n",
    "\n",
    "        \n",
    "    #run k-means    \n",
    "    def run(self):\n",
    "        \n",
    "        #initialize tables\n",
    "        self.kmeans_init()   #初始化centroid\n",
    "                \n",
    "        #first iteration \n",
    "        self.iterl = 0\n",
    "        self.update_table()\n",
    "        self.obj_value = self.cal_obj_func()\n",
    "        self.prev_obj_value = self.obj_value*2\n",
    "        \n",
    "        #update centroid & data clustering\n",
    "        while self.iterl<self.MAX_ITER and abs(self.prev_obj_value-self.obj_value)>=self.epsilon :\n",
    "            self.prev_obj_value = self.obj_value\n",
    "            self.iterl+=1\n",
    "            self.update_cent()\n",
    "            self.update_table()\n",
    "            self.obj_value = self.cal_obj_func()\n",
    "        \n",
    "        #self.print_result()    \n",
    "        \n",
    "    #Calculate average accuracy    \n",
    "    def calculate_acc(self,iterate_times):\n",
    "        self.acc = 0\n",
    "        i = 0\n",
    "        while( i < iterate_times):\n",
    "            self.run()\n",
    "            self.calculate_origin_mass()\n",
    "            self.cent_name = self.centroid_names()\n",
    "            # Avoid the rare situations that some cluster are gone\n",
    "            #if len(np.unique(self.cent_name)) != self.K:\n",
    "            #    continue\n",
    "                \n",
    "            self.nearest_cluster()\n",
    "            i += 1\n",
    "            self.acc += accuracy_score(self.data_y,self.nearest)\n",
    "            \n",
    "            #self.print_result()\n",
    "        \n",
    "        if iterate_times is not 0:\n",
    "            self.acc /= iterate_times\n",
    "        \n",
    "        print(\"Average accuracy for \",iterate_times,\" times : \",self.acc)\n",
    "        return self.acc\n",
    "#---------------------------------------------------------------------------------\n",
    "#----------------Subfunctions of calculate_acc(iterate_times)---------------------\n",
    "#---------------------------------------------------------------------------------\n",
    "    def centroid_names(self):\n",
    "        cent_name = np.zeros(self.K)\n",
    "        \n",
    "        for i in range(self.K):\n",
    "            min_dist=float(\"inf\")\n",
    "            name = 0\n",
    "            for j in range(self.K):\n",
    "                dist = np.linalg.norm(self.cent[i] - self.origin_mass[j])\n",
    "                if dist < min_dist:\n",
    "                    min_dist = dist\n",
    "                    name = j\n",
    "            cent_name[i] = name\n",
    "            \n",
    "        return cent_name\n",
    "    \n",
    "    def calculate_origin_mass(self):\n",
    "        self.origin_mass = np.zeros((self.K,self.DIM))\n",
    "        \n",
    "        counter = np.zeros(self.K)\n",
    "        for i in range(self.K):\n",
    "            counter[i] = len(self.data_y[self.data_y==i])\n",
    "            \n",
    "        \n",
    "        for j in range(self.DIM):\n",
    "            for i in range(self.DCNT):\n",
    "                a = self.data_y[i]\n",
    "                self.origin_mass[a][j] += self.data_x.iloc[i,j]\n",
    "            for i in range(self.K):  \n",
    "                if counter[i] is not 0:\n",
    "                    self.origin_mass[i][j] /= counter[i]\n",
    "    \n",
    "    def nearest_cluster(self):\n",
    "        self.nearest = np.zeros(self.DCNT)\n",
    "        \n",
    "        for i in range(len(self.data_x.index)):\n",
    "            self.nearest[i] = self.cent_name[np.argmax(self.table[i])]\n",
    "        \n",
    "#---------------------------------------------------------------------------------\n",
    "#------------------------------Subfunctions of run()------------------------------\n",
    "#---------------------------------------------------------------------------------    \n",
    "    def kmeans_init(self):\n",
    "        \n",
    "        self.data = self.data_x.values\n",
    "        self.cent = np.zeros((self.K,self.DIM))\n",
    "        self.table= np.zeros((self.DCNT,self.K))\n",
    "        self.dis_k= np.zeros((self.K,self.DIM))\n",
    "        self.cent_c=np.zeros(self.K)\n",
    "        self.U    = np.zeros((self.DCNT,self.K))\n",
    "                \n",
    "        pick = []\n",
    "        counter = 0\n",
    "        while(counter<self.K):\n",
    "            rnd = random.randint(0,self.DCNT-1)\n",
    "            if(rnd not in pick):\n",
    "                pick.append(rnd)\n",
    "                counter=counter+1\n",
    "                \n",
    "        for i in range(self.K):\n",
    "            for j in range(self.DIM):\n",
    "                self.cent[i][j] = self.data[pick[i]][j] \n",
    "      \n",
    "\n",
    "    def update_cent(self):\n",
    "        \n",
    "        for k in range(self.K):\n",
    "            down = 0\n",
    "            for i in range(self.DCNT):\n",
    "                down += self.table[i][k]\n",
    "                \n",
    "            for i in range(self.DCNT):    \n",
    "                for j in range(self.DIM):\n",
    "                    self.cent[k][j] += self.data_x.iloc[i,j]*self.table[i][k]\n",
    "                    \n",
    "            for j in range(self.DIM):\n",
    "                self.cent[k][j] /= down\n",
    "                    \n",
    "    def cal_w(self,i,j):\n",
    "        w = 0\n",
    "        dis = np.linalg.norm(self.data_x.iloc[i].values-self.cent[j])\n",
    "        for c in range(self.K):\n",
    "            dis_c = np.linalg.norm(self.data_x.iloc[i].values-self.cent[c])\n",
    "            if dis_c != 0:\n",
    "                w += math.pow((dis/dis_c),2/(self.m-1))\n",
    "        \n",
    "        if(w != 0):\n",
    "            w = 1/w\n",
    "            \n",
    "        return w\n",
    "            \n",
    "    def update_table(self):\n",
    "        for i in range(self.DCNT):\n",
    "            for j in range(self.K):\n",
    "                self.table[i][j] = self.cal_w(i,j)\n",
    "                \n",
    "    def cal_obj_func(self):\n",
    "        obj_value = 0\n",
    "        for i in range(self.DCNT):\n",
    "            for j in range(self.K):\n",
    "                obj_value += self.table[i][j]*math.pow(np.linalg.norm(self.data_x.iloc[i].values-self.cent[j]),2)\n",
    "        return obj_value\n",
    "\n",
    "    def print_cent(self):\n",
    "        print(\"Centroids:\")\n",
    "        print(self.cent)\n",
    "\n",
    "    def print_result(self):\n",
    "        print(\"K means:\")\n",
    "        print(self.table)\n",
    "        print(\"Object function value = \",end='')\n",
    "        print(self.obj_value)\n",
    "        print(\"Previous Object function value = \",end='')\n",
    "        print(self.prev_obj_value)\n",
    "        print(\"iter = \",end='')\n",
    "        print(self.iterl)     \n",
    "    "
   ]
  },
  {
   "cell_type": "markdown",
   "metadata": {},
   "source": [
    "## Here comes our FCM\n",
    "### Let's run it!"
   ]
  },
  {
   "cell_type": "code",
   "execution_count": 16,
   "metadata": {},
   "outputs": [
    {
     "name": "stderr",
     "output_type": "stream",
     "text": [
      "/home/tl32rodan/.conda/envs/rodan/lib/python3.6/site-packages/ipykernel_launcher.py:3: DataConversionWarning: Data with input dtype uint8, float64 were all converted to float64 by the scale function.\n",
      "  This is separate from the ipykernel package so we can avoid doing imports until\n"
     ]
    },
    {
     "ename": "AttributeError",
     "evalue": "'DataFrame' object has no attribute 'rdd'",
     "output_type": "error",
     "traceback": [
      "\u001b[0;31m---------------------------------------------------------------------------\u001b[0m",
      "\u001b[0;31mAttributeError\u001b[0m                            Traceback (most recent call last)",
      "\u001b[0;32m<ipython-input-16-18bfdca74540>\u001b[0m in \u001b[0;36m<module>\u001b[0;34m\u001b[0m\n\u001b[1;32m      1\u001b[0m \u001b[0mresult\u001b[0m \u001b[0;34m=\u001b[0m \u001b[0mour_k_means\u001b[0m\u001b[0;34m(\u001b[0m\u001b[0mdata_x\u001b[0m\u001b[0;34m,\u001b[0m\u001b[0mdata_y\u001b[0m\u001b[0;34m)\u001b[0m\u001b[0;34m\u001b[0m\u001b[0;34m\u001b[0m\u001b[0m\n\u001b[0;32m----> 2\u001b[0;31m \u001b[0mresult\u001b[0m\u001b[0;34m.\u001b[0m\u001b[0mcalculate_acc\u001b[0m\u001b[0;34m(\u001b[0m\u001b[0mSimulate_time\u001b[0m\u001b[0;34m)\u001b[0m\u001b[0;34m\u001b[0m\u001b[0;34m\u001b[0m\u001b[0m\n\u001b[0m",
      "\u001b[0;32m<ipython-input-15-570ca153d9d2>\u001b[0m in \u001b[0;36mcalculate_acc\u001b[0;34m(self, iterate_times)\u001b[0m\n\u001b[1;32m     58\u001b[0m         \u001b[0mi\u001b[0m \u001b[0;34m=\u001b[0m \u001b[0;36m0\u001b[0m\u001b[0;34m\u001b[0m\u001b[0;34m\u001b[0m\u001b[0m\n\u001b[1;32m     59\u001b[0m         \u001b[0;32mwhile\u001b[0m\u001b[0;34m(\u001b[0m \u001b[0mi\u001b[0m \u001b[0;34m<\u001b[0m \u001b[0miterate_times\u001b[0m\u001b[0;34m)\u001b[0m\u001b[0;34m:\u001b[0m\u001b[0;34m\u001b[0m\u001b[0;34m\u001b[0m\u001b[0m\n\u001b[0;32m---> 60\u001b[0;31m             \u001b[0mself\u001b[0m\u001b[0;34m.\u001b[0m\u001b[0mrun\u001b[0m\u001b[0;34m(\u001b[0m\u001b[0;34m)\u001b[0m\u001b[0;34m\u001b[0m\u001b[0;34m\u001b[0m\u001b[0m\n\u001b[0m\u001b[1;32m     61\u001b[0m             \u001b[0mself\u001b[0m\u001b[0;34m.\u001b[0m\u001b[0mcalculate_origin_mass\u001b[0m\u001b[0;34m(\u001b[0m\u001b[0;34m)\u001b[0m\u001b[0;34m\u001b[0m\u001b[0;34m\u001b[0m\u001b[0m\n\u001b[1;32m     62\u001b[0m             \u001b[0mself\u001b[0m\u001b[0;34m.\u001b[0m\u001b[0mcent_name\u001b[0m \u001b[0;34m=\u001b[0m \u001b[0mself\u001b[0m\u001b[0;34m.\u001b[0m\u001b[0mcentroid_names\u001b[0m\u001b[0;34m(\u001b[0m\u001b[0;34m)\u001b[0m\u001b[0;34m\u001b[0m\u001b[0;34m\u001b[0m\u001b[0m\n",
      "\u001b[0;32m<ipython-input-15-570ca153d9d2>\u001b[0m in \u001b[0;36mrun\u001b[0;34m(self)\u001b[0m\n\u001b[1;32m     35\u001b[0m \u001b[0;34m\u001b[0m\u001b[0m\n\u001b[1;32m     36\u001b[0m         \u001b[0;31m#initialize tables\u001b[0m\u001b[0;34m\u001b[0m\u001b[0;34m\u001b[0m\u001b[0;34m\u001b[0m\u001b[0m\n\u001b[0;32m---> 37\u001b[0;31m         \u001b[0mself\u001b[0m\u001b[0;34m.\u001b[0m\u001b[0mkmeans_init\u001b[0m\u001b[0;34m(\u001b[0m\u001b[0;34m)\u001b[0m   \u001b[0;31m#初始化centroid\u001b[0m\u001b[0;34m\u001b[0m\u001b[0;34m\u001b[0m\u001b[0m\n\u001b[0m\u001b[1;32m     38\u001b[0m \u001b[0;34m\u001b[0m\u001b[0m\n\u001b[1;32m     39\u001b[0m         \u001b[0;31m#first iteration\u001b[0m\u001b[0;34m\u001b[0m\u001b[0;34m\u001b[0m\u001b[0;34m\u001b[0m\u001b[0m\n",
      "\u001b[0;32m<ipython-input-15-570ca153d9d2>\u001b[0m in \u001b[0;36mkmeans_init\u001b[0;34m(self)\u001b[0m\n\u001b[1;32m    121\u001b[0m     \u001b[0;32mdef\u001b[0m \u001b[0mkmeans_init\u001b[0m\u001b[0;34m(\u001b[0m\u001b[0mself\u001b[0m\u001b[0;34m)\u001b[0m\u001b[0;34m:\u001b[0m\u001b[0;34m\u001b[0m\u001b[0;34m\u001b[0m\u001b[0m\n\u001b[1;32m    122\u001b[0m \u001b[0;34m\u001b[0m\u001b[0m\n\u001b[0;32m--> 123\u001b[0;31m         \u001b[0mself\u001b[0m\u001b[0;34m.\u001b[0m\u001b[0mdata\u001b[0m \u001b[0;34m=\u001b[0m \u001b[0mself\u001b[0m\u001b[0;34m.\u001b[0m\u001b[0mdata_x\u001b[0m\u001b[0;34m.\u001b[0m\u001b[0mrdd\u001b[0m\u001b[0;34m.\u001b[0m\u001b[0mmap\u001b[0m\u001b[0;34m(\u001b[0m\u001b[0;32mlambda\u001b[0m \u001b[0mx\u001b[0m\u001b[0;34m:\u001b[0m\u001b[0mx\u001b[0m\u001b[0;34m.\u001b[0m\u001b[0mstringFieldName\u001b[0m\u001b[0;34m.\u001b[0m\u001b[0msplit\u001b[0m\u001b[0;34m(\u001b[0m\u001b[0;34m\",\"\u001b[0m\u001b[0;34m)\u001b[0m\u001b[0;34m)\u001b[0m\u001b[0;34m\u001b[0m\u001b[0;34m\u001b[0m\u001b[0m\n\u001b[0m\u001b[1;32m    124\u001b[0m         \u001b[0mself\u001b[0m\u001b[0;34m.\u001b[0m\u001b[0mcent\u001b[0m \u001b[0;34m=\u001b[0m \u001b[0mnp\u001b[0m\u001b[0;34m.\u001b[0m\u001b[0mzeros\u001b[0m\u001b[0;34m(\u001b[0m\u001b[0;34m(\u001b[0m\u001b[0mself\u001b[0m\u001b[0;34m.\u001b[0m\u001b[0mK\u001b[0m\u001b[0;34m,\u001b[0m\u001b[0mself\u001b[0m\u001b[0;34m.\u001b[0m\u001b[0mDIM\u001b[0m\u001b[0;34m)\u001b[0m\u001b[0;34m)\u001b[0m\u001b[0;34m\u001b[0m\u001b[0;34m\u001b[0m\u001b[0m\n\u001b[1;32m    125\u001b[0m         \u001b[0mself\u001b[0m\u001b[0;34m.\u001b[0m\u001b[0mtable\u001b[0m\u001b[0;34m=\u001b[0m \u001b[0mnp\u001b[0m\u001b[0;34m.\u001b[0m\u001b[0mzeros\u001b[0m\u001b[0;34m(\u001b[0m\u001b[0;34m(\u001b[0m\u001b[0mself\u001b[0m\u001b[0;34m.\u001b[0m\u001b[0mDCNT\u001b[0m\u001b[0;34m,\u001b[0m\u001b[0mself\u001b[0m\u001b[0;34m.\u001b[0m\u001b[0mK\u001b[0m\u001b[0;34m)\u001b[0m\u001b[0;34m)\u001b[0m\u001b[0;34m\u001b[0m\u001b[0;34m\u001b[0m\u001b[0m\n",
      "\u001b[0;32m~/.conda/envs/rodan/lib/python3.6/site-packages/pandas/core/generic.py\u001b[0m in \u001b[0;36m__getattr__\u001b[0;34m(self, name)\u001b[0m\n\u001b[1;32m   5065\u001b[0m             \u001b[0;32mif\u001b[0m \u001b[0mself\u001b[0m\u001b[0;34m.\u001b[0m\u001b[0m_info_axis\u001b[0m\u001b[0;34m.\u001b[0m\u001b[0m_can_hold_identifiers_and_holds_name\u001b[0m\u001b[0;34m(\u001b[0m\u001b[0mname\u001b[0m\u001b[0;34m)\u001b[0m\u001b[0;34m:\u001b[0m\u001b[0;34m\u001b[0m\u001b[0;34m\u001b[0m\u001b[0m\n\u001b[1;32m   5066\u001b[0m                 \u001b[0;32mreturn\u001b[0m \u001b[0mself\u001b[0m\u001b[0;34m[\u001b[0m\u001b[0mname\u001b[0m\u001b[0;34m]\u001b[0m\u001b[0;34m\u001b[0m\u001b[0;34m\u001b[0m\u001b[0m\n\u001b[0;32m-> 5067\u001b[0;31m             \u001b[0;32mreturn\u001b[0m \u001b[0mobject\u001b[0m\u001b[0;34m.\u001b[0m\u001b[0m__getattribute__\u001b[0m\u001b[0;34m(\u001b[0m\u001b[0mself\u001b[0m\u001b[0;34m,\u001b[0m \u001b[0mname\u001b[0m\u001b[0;34m)\u001b[0m\u001b[0;34m\u001b[0m\u001b[0;34m\u001b[0m\u001b[0m\n\u001b[0m\u001b[1;32m   5068\u001b[0m \u001b[0;34m\u001b[0m\u001b[0m\n\u001b[1;32m   5069\u001b[0m     \u001b[0;32mdef\u001b[0m \u001b[0m__setattr__\u001b[0m\u001b[0;34m(\u001b[0m\u001b[0mself\u001b[0m\u001b[0;34m,\u001b[0m \u001b[0mname\u001b[0m\u001b[0;34m,\u001b[0m \u001b[0mvalue\u001b[0m\u001b[0;34m)\u001b[0m\u001b[0;34m:\u001b[0m\u001b[0;34m\u001b[0m\u001b[0;34m\u001b[0m\u001b[0m\n",
      "\u001b[0;31mAttributeError\u001b[0m: 'DataFrame' object has no attribute 'rdd'"
     ]
    }
   ],
   "source": [
    "result = our_k_means(data_x,data_y)\n",
    "result.calculate_acc(Simulate_time)"
   ]
  },
  {
   "cell_type": "code",
   "execution_count": 5,
   "metadata": {},
   "outputs": [
    {
     "name": "stdout",
     "output_type": "stream",
     "text": [
      "Centroids:\n",
      "[[-0.25444975 -0.25728413 -0.22810925 -0.26392622 -0.25291458 -0.26060043\n",
      "  -0.2562821  -0.12244822  0.25400296 -0.12838033]\n",
      " [ 0.24841005  0.25117716  0.22269478  0.25766158  0.24691132  0.25441474\n",
      "   0.25019891  0.11954175 -0.24797387  0.12533305]]\n"
     ]
    }
   ],
   "source": [
    "result.print_cent()"
   ]
  },
  {
   "cell_type": "code",
   "execution_count": 6,
   "metadata": {},
   "outputs": [
    {
     "name": "stdout",
     "output_type": "stream",
     "text": [
      "K means:\n",
      "[[0.63726119 0.36273881]\n",
      " [0.63513894 0.36486106]\n",
      " [0.51388198 0.48611802]\n",
      " ...\n",
      " [0.30726706 0.69273294]\n",
      " [0.30026951 0.69973049]\n",
      " [0.3763871  0.6236129 ]]\n",
      "Object function value = 39544.823604668076\n",
      "Previous Object function value = 39544.882397948495\n",
      "iter = 100\n"
     ]
    }
   ],
   "source": [
    "result.print_result()"
   ]
  },
  {
   "cell_type": "code",
   "execution_count": null,
   "metadata": {},
   "outputs": [],
   "source": []
  }
 ],
 "metadata": {
  "kernelspec": {
   "display_name": "Python 3",
   "language": "python",
   "name": "python3"
  },
  "language_info": {
   "codemirror_mode": {
    "name": "ipython",
    "version": 3
   },
   "file_extension": ".py",
   "mimetype": "text/x-python",
   "name": "python",
   "nbconvert_exporter": "python",
   "pygments_lexer": "ipython3",
   "version": "3.6.8"
  }
 },
 "nbformat": 4,
 "nbformat_minor": 2
}
