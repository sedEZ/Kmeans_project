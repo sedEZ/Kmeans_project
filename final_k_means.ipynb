{
 "cells": [
  {
   "cell_type": "code",
   "execution_count": 1,
   "metadata": {},
   "outputs": [],
   "source": [
    "import time\n",
    "import random\n",
    "import numpy as np\n",
    "import pandas as pd\n",
    "from sklearn import cluster, datasets, metrics\n",
    "from sklearn.metrics import accuracy_score\n",
    "from sklearn import preprocessing\n",
    "from pyspark.sql import SparkSession\n",
    "from pyspark.sql import Row"
   ]
  },
  {
   "cell_type": "code",
   "execution_count": 5,
   "metadata": {},
   "outputs": [],
   "source": [
    "spark = SparkSession \\\n",
    "                .builder \\\n",
    "                .appName(\"RDD_and_DataFrame\") \\\n",
    "                .config(\"spark.some.config.option\", \"some-value\") \\\n",
    "                .getOrCreate()\n",
    "sc = spark.sparkContext"
   ]
  },
  {
   "cell_type": "markdown",
   "metadata": {},
   "source": [
    "# Data Preprocessing"
   ]
  },
  {
   "cell_type": "markdown",
   "metadata": {},
   "source": [
    "## Wine Dataset"
   ]
  },
  {
   "cell_type": "code",
   "execution_count": 6,
   "metadata": {},
   "outputs": [
    {
     "data": {
      "text/plain": [
       "'\\nline = sc.textFile(\"./dataset/wine.txt\")\\ndata_x = spark.createDataFrame(line.map(lambda r : r.split(\",\")).collect()).toPandas()\\nconverge_dist = 0.05\\nK = 5\\nmax_iter = 30\\n'"
      ]
     },
     "execution_count": 6,
     "metadata": {},
     "output_type": "execute_result"
    }
   ],
   "source": [
    "'''\n",
    "line = sc.textFile(\"./dataset/wine.txt\")\n",
    "data_x = spark.createDataFrame(line.map(lambda r : r.split(\",\")).collect()).toPandas()\n",
    "converge_dist = 0.05\n",
    "K = 5\n",
    "max_iter = 30\n",
    "'''"
   ]
  },
  {
   "cell_type": "code",
   "execution_count": 7,
   "metadata": {},
   "outputs": [],
   "source": [
    "\n",
    "line = sc.textFile(\"./dataset/c20d6n200000.txt\")\n",
    "data_x = spark.createDataFrame(line.map(lambda r : r.split(\",\")).collect()).toPandas()\n",
    "converge_dist = 0.05\n",
    "K = 6\n",
    "max_iter = 30"
   ]
  },
  {
   "cell_type": "code",
   "execution_count": 19,
   "metadata": {},
   "outputs": [],
   "source": [
    "def cal_distance(p,cent):\n",
    "    bestIndex = 0\n",
    "    closest = float(\"+inf\")\n",
    "    for i in range(len(cent)):\n",
    "        tempDist = np.sum((p - cent[i]) ** 2)\n",
    "        if tempDist < closest:\n",
    "            closest = tempDist\n",
    "            bestIndex = i\n",
    "            \n",
    "    return bestIndex"
   ]
  },
  {
   "cell_type": "markdown",
   "metadata": {},
   "source": [
    "## Here comes our k-means"
   ]
  },
  {
   "cell_type": "code",
   "execution_count": 20,
   "metadata": {
    "scrolled": true
   },
   "outputs": [
    {
     "name": "stdout",
     "output_type": "stream",
     "text": [
      "6108622.779842365\n",
      "547535.184891067\n",
      "839508.7118191819\n",
      "164834.42361638905\n",
      "162882.82855949653\n",
      "25912.811660002117\n",
      "53157.03667683278\n",
      "235680.4705556058\n",
      "4935.017946732099\n",
      "48.40335176661537\n",
      "0.0\n",
      "Centers:\n",
      "[array([ 7.95288247e+02, -4.47944551e-01, -3.89555710e+00, -8.00832993e+02,\n",
      "        5.18257871e+00,  7.94670979e+02]), array([-810.61109498,    7.12569174, -162.71551508,  477.47833818,\n",
      "       -158.16925449,  815.58238568]), array([ 273.32250583,    1.8657367 ,  801.13996693,  260.179773  ,\n",
      "        800.19293462, -789.76087213]), array([ 812.90152437,   -5.91932219, -792.84848696,  804.38335069,\n",
      "        803.47185115,   -9.5690966 ]), array([ 806.81381469,   -3.66555665,  271.05345376, -258.4474487 ,\n",
      "       -789.06499369, -792.46230403]), array([-807.45525233,   -2.99750816,  271.34414787, -807.42332491,\n",
      "        266.73722204, -795.97859691])]\n"
     ]
    }
   ],
   "source": [
    "start = time.time()\n",
    "#initialize tables\n",
    "data = spark.createDataFrame(data_x).rdd.map(lambda r : np.array([float(x) for x in r])).cache()\n",
    "cent = data.takeSample(False,K,1)\n",
    "table= np.zeros(K)   \n",
    "                \n",
    "#first iteration    \n",
    "iterl = 0\n",
    "curr_sse = 1.0\n",
    "        \n",
    "#update centroid & data clustering\n",
    "while curr_sse > converge_dist :\n",
    "    mapping_data = data.map(lambda point : (cal_distance(point,cent) , (point,1)))\n",
    "    table = mapping_data.reduceByKey(lambda p1,p2 : (p1[0]+p2[0] , p1[1]+p2[1]))\n",
    "            \n",
    "    result = table.map(lambda t : (t[0], t[1][0]/t[1][1])).collect()\n",
    "    curr_sse = sum(np.sum((cent[i] - p) ** 2) for (i, p) in result)\n",
    "    print(curr_sse)\n",
    "    for(i,p) in result:\n",
    "        cent[i] = p\n",
    "       \n",
    "    iterl+=1\n",
    "\n",
    "    \n",
    "print(\"Centers:\")\n",
    "print(cent)\n",
    "\n",
    "end = time.time()"
   ]
  },
  {
   "cell_type": "code",
   "execution_count": 21,
   "metadata": {},
   "outputs": [
    {
     "name": "stdout",
     "output_type": "stream",
     "text": [
      "Total time : 2.683225154876709\n",
      "11\n"
     ]
    }
   ],
   "source": [
    "print(\"Total time : \", end=\"\")\n",
    "print(end-start)\n",
    "print(iterl)"
   ]
  },
  {
   "cell_type": "code",
   "execution_count": null,
   "metadata": {},
   "outputs": [],
   "source": [
    "\n",
    "result_x = np.zeros(len(data_x.index))\n",
    "j=0\n",
    "for i in range(len(data_x.index)):\n",
    "    result_x[i] = cal_distance(data_x.iloc[i].astype(float),cent)\n"
   ]
  },
  {
   "cell_type": "code",
   "execution_count": null,
   "metadata": {},
   "outputs": [],
   "source": [
    "silhouette_avg = metrics.silhouette_score(data_x,result_x)\n",
    "print(silhouette_avg)"
   ]
  },
  {
   "cell_type": "code",
   "execution_count": 8,
   "metadata": {},
   "outputs": [
    {
     "name": "stdout",
     "output_type": "stream",
     "text": [
      "Total time : 2.4522459506988525\n"
     ]
    }
   ],
   "source": [
    "start = time.time()\n",
    "kmeans_fit = cluster.KMeans(n_clusters = 3).fit(data_x)\n",
    "end = time.time()\n",
    "print(\"Total time : \", end=\"\")\n",
    "print(end-start)"
   ]
  },
  {
   "cell_type": "code",
   "execution_count": 9,
   "metadata": {},
   "outputs": [],
   "source": [
    "cluster_labels = kmeans_fit.labels_"
   ]
  },
  {
   "cell_type": "code",
   "execution_count": 10,
   "metadata": {},
   "outputs": [
    {
     "data": {
      "text/plain": [
       "array([[-4.41388125e-01, -1.15025020e+02, -3.40724663e+02,\n",
       "         5.71321088e+02, -8.01191326e+02, -3.42139507e+02],\n",
       "       [ 2.40792208e-01, -1.12869019e+02,  5.73883737e+02,\n",
       "        -1.14939787e+02,  1.15355360e+02,  8.00508832e+02],\n",
       "       [-8.75471359e-01, -1.66314491e+00, -1.81747204e+00,\n",
       "        -6.34670648e-01,  8.00333399e+02, -7.97792346e+02]])"
      ]
     },
     "execution_count": 10,
     "metadata": {},
     "output_type": "execute_result"
    }
   ],
   "source": [
    "kmeans_fit.cluster_centers_"
   ]
  },
  {
   "cell_type": "code",
   "execution_count": 11,
   "metadata": {},
   "outputs": [
    {
     "name": "stdout",
     "output_type": "stream",
     "text": [
      "0.2396542543497579\n"
     ]
    }
   ],
   "source": [
    "silhouette_avg_2 = metrics.silhouette_score(data_x, cluster_labels)\n",
    "print(silhouette_avg_2)"
   ]
  },
  {
   "cell_type": "code",
   "execution_count": 21,
   "metadata": {},
   "outputs": [],
   "source": [
    "spark.stop()"
   ]
  },
  {
   "cell_type": "code",
   "execution_count": null,
   "metadata": {},
   "outputs": [],
   "source": []
  }
 ],
 "metadata": {
  "kernelspec": {
   "display_name": "Python 3",
   "language": "python",
   "name": "python3"
  },
  "language_info": {
   "codemirror_mode": {
    "name": "ipython",
    "version": 3
   },
   "file_extension": ".py",
   "mimetype": "text/x-python",
   "name": "python",
   "nbconvert_exporter": "python",
   "pygments_lexer": "ipython3",
   "version": "3.6.8"
  }
 },
 "nbformat": 4,
 "nbformat_minor": 2
}
